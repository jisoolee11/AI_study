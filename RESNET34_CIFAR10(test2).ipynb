{
  "nbformat": 4,
  "nbformat_minor": 0,
  "metadata": {
    "colab": {
      "name": "VGG16-CIFAR10(test1).ipynb",
      "provenance": [],
      "collapsed_sections": [],
      "authorship_tag": "ABX9TyMe+tSQ5kkvwShf8F4teMMc",
      "include_colab_link": true
    },
    "kernelspec": {
      "name": "python3",
      "display_name": "Python 3"
    },
    "accelerator": "GPU",
    "widgets": {
      "application/vnd.jupyter.widget-state+json": {
        "39d3b1d35a9f426fae311de2c41dde57": {
          "model_module": "@jupyter-widgets/controls",
          "model_name": "HBoxModel",
          "state": {
            "_view_name": "HBoxView",
            "_dom_classes": [],
            "_model_name": "HBoxModel",
            "_view_module": "@jupyter-widgets/controls",
            "_model_module_version": "1.5.0",
            "_view_count": null,
            "_view_module_version": "1.5.0",
            "box_style": "",
            "layout": "IPY_MODEL_6ca07817788b46b5a623f79c368a0231",
            "_model_module": "@jupyter-widgets/controls",
            "children": [
              "IPY_MODEL_2971dc2534934bb49eedb633c1392b75",
              "IPY_MODEL_dd5bddd0fc13457dbf407303ebda7e60"
            ]
          }
        },
        "6ca07817788b46b5a623f79c368a0231": {
          "model_module": "@jupyter-widgets/base",
          "model_name": "LayoutModel",
          "state": {
            "_view_name": "LayoutView",
            "grid_template_rows": null,
            "right": null,
            "justify_content": null,
            "_view_module": "@jupyter-widgets/base",
            "overflow": null,
            "_model_module_version": "1.2.0",
            "_view_count": null,
            "flex_flow": null,
            "width": null,
            "min_width": null,
            "border": null,
            "align_items": null,
            "bottom": null,
            "_model_module": "@jupyter-widgets/base",
            "top": null,
            "grid_column": null,
            "overflow_y": null,
            "overflow_x": null,
            "grid_auto_flow": null,
            "grid_area": null,
            "grid_template_columns": null,
            "flex": null,
            "_model_name": "LayoutModel",
            "justify_items": null,
            "grid_row": null,
            "max_height": null,
            "align_content": null,
            "visibility": null,
            "align_self": null,
            "height": null,
            "min_height": null,
            "padding": null,
            "grid_auto_rows": null,
            "grid_gap": null,
            "max_width": null,
            "order": null,
            "_view_module_version": "1.2.0",
            "grid_template_areas": null,
            "object_position": null,
            "object_fit": null,
            "grid_auto_columns": null,
            "margin": null,
            "display": null,
            "left": null
          }
        },
        "2971dc2534934bb49eedb633c1392b75": {
          "model_module": "@jupyter-widgets/controls",
          "model_name": "FloatProgressModel",
          "state": {
            "_view_name": "ProgressView",
            "style": "IPY_MODEL_f705d1e4b17a4319b3ffbf73287b386a",
            "_dom_classes": [],
            "description": "",
            "_model_name": "FloatProgressModel",
            "bar_style": "info",
            "max": 1,
            "_view_module": "@jupyter-widgets/controls",
            "_model_module_version": "1.5.0",
            "value": 1,
            "_view_count": null,
            "_view_module_version": "1.5.0",
            "orientation": "horizontal",
            "min": 0,
            "description_tooltip": null,
            "_model_module": "@jupyter-widgets/controls",
            "layout": "IPY_MODEL_3b08244732ae469fa313b5f814ad3c28"
          }
        },
        "dd5bddd0fc13457dbf407303ebda7e60": {
          "model_module": "@jupyter-widgets/controls",
          "model_name": "HTMLModel",
          "state": {
            "_view_name": "HTMLView",
            "style": "IPY_MODEL_ecf0e4d05a434d5386250ece26e8ee79",
            "_dom_classes": [],
            "description": "",
            "_model_name": "HTMLModel",
            "placeholder": "​",
            "_view_module": "@jupyter-widgets/controls",
            "_model_module_version": "1.5.0",
            "value": " 170500096/? [00:20&lt;00:00, 94099235.47it/s]",
            "_view_count": null,
            "_view_module_version": "1.5.0",
            "description_tooltip": null,
            "_model_module": "@jupyter-widgets/controls",
            "layout": "IPY_MODEL_2afa9895287d452b8ec987c3e5495227"
          }
        },
        "f705d1e4b17a4319b3ffbf73287b386a": {
          "model_module": "@jupyter-widgets/controls",
          "model_name": "ProgressStyleModel",
          "state": {
            "_view_name": "StyleView",
            "_model_name": "ProgressStyleModel",
            "description_width": "initial",
            "_view_module": "@jupyter-widgets/base",
            "_model_module_version": "1.5.0",
            "_view_count": null,
            "_view_module_version": "1.2.0",
            "bar_color": null,
            "_model_module": "@jupyter-widgets/controls"
          }
        },
        "3b08244732ae469fa313b5f814ad3c28": {
          "model_module": "@jupyter-widgets/base",
          "model_name": "LayoutModel",
          "state": {
            "_view_name": "LayoutView",
            "grid_template_rows": null,
            "right": null,
            "justify_content": null,
            "_view_module": "@jupyter-widgets/base",
            "overflow": null,
            "_model_module_version": "1.2.0",
            "_view_count": null,
            "flex_flow": null,
            "width": null,
            "min_width": null,
            "border": null,
            "align_items": null,
            "bottom": null,
            "_model_module": "@jupyter-widgets/base",
            "top": null,
            "grid_column": null,
            "overflow_y": null,
            "overflow_x": null,
            "grid_auto_flow": null,
            "grid_area": null,
            "grid_template_columns": null,
            "flex": null,
            "_model_name": "LayoutModel",
            "justify_items": null,
            "grid_row": null,
            "max_height": null,
            "align_content": null,
            "visibility": null,
            "align_self": null,
            "height": null,
            "min_height": null,
            "padding": null,
            "grid_auto_rows": null,
            "grid_gap": null,
            "max_width": null,
            "order": null,
            "_view_module_version": "1.2.0",
            "grid_template_areas": null,
            "object_position": null,
            "object_fit": null,
            "grid_auto_columns": null,
            "margin": null,
            "display": null,
            "left": null
          }
        },
        "ecf0e4d05a434d5386250ece26e8ee79": {
          "model_module": "@jupyter-widgets/controls",
          "model_name": "DescriptionStyleModel",
          "state": {
            "_view_name": "StyleView",
            "_model_name": "DescriptionStyleModel",
            "description_width": "",
            "_view_module": "@jupyter-widgets/base",
            "_model_module_version": "1.5.0",
            "_view_count": null,
            "_view_module_version": "1.2.0",
            "_model_module": "@jupyter-widgets/controls"
          }
        },
        "2afa9895287d452b8ec987c3e5495227": {
          "model_module": "@jupyter-widgets/base",
          "model_name": "LayoutModel",
          "state": {
            "_view_name": "LayoutView",
            "grid_template_rows": null,
            "right": null,
            "justify_content": null,
            "_view_module": "@jupyter-widgets/base",
            "overflow": null,
            "_model_module_version": "1.2.0",
            "_view_count": null,
            "flex_flow": null,
            "width": null,
            "min_width": null,
            "border": null,
            "align_items": null,
            "bottom": null,
            "_model_module": "@jupyter-widgets/base",
            "top": null,
            "grid_column": null,
            "overflow_y": null,
            "overflow_x": null,
            "grid_auto_flow": null,
            "grid_area": null,
            "grid_template_columns": null,
            "flex": null,
            "_model_name": "LayoutModel",
            "justify_items": null,
            "grid_row": null,
            "max_height": null,
            "align_content": null,
            "visibility": null,
            "align_self": null,
            "height": null,
            "min_height": null,
            "padding": null,
            "grid_auto_rows": null,
            "grid_gap": null,
            "max_width": null,
            "order": null,
            "_view_module_version": "1.2.0",
            "grid_template_areas": null,
            "object_position": null,
            "object_fit": null,
            "grid_auto_columns": null,
            "margin": null,
            "display": null,
            "left": null
          }
        },
        "9d0aed3ed8d04ef8bcc18bbf2c3fe29b": {
          "model_module": "@jupyter-widgets/controls",
          "model_name": "HBoxModel",
          "state": {
            "_view_name": "HBoxView",
            "_dom_classes": [],
            "_model_name": "HBoxModel",
            "_view_module": "@jupyter-widgets/controls",
            "_model_module_version": "1.5.0",
            "_view_count": null,
            "_view_module_version": "1.5.0",
            "box_style": "",
            "layout": "IPY_MODEL_399e041dc76a44319a05d4673cf5ff9b",
            "_model_module": "@jupyter-widgets/controls",
            "children": [
              "IPY_MODEL_b9fb4984f7f84e1eb0e5f01efddfc4e6",
              "IPY_MODEL_a9f6aae808d5474b8534bfefe86e3545"
            ]
          }
        },
        "399e041dc76a44319a05d4673cf5ff9b": {
          "model_module": "@jupyter-widgets/base",
          "model_name": "LayoutModel",
          "state": {
            "_view_name": "LayoutView",
            "grid_template_rows": null,
            "right": null,
            "justify_content": null,
            "_view_module": "@jupyter-widgets/base",
            "overflow": null,
            "_model_module_version": "1.2.0",
            "_view_count": null,
            "flex_flow": null,
            "width": null,
            "min_width": null,
            "border": null,
            "align_items": null,
            "bottom": null,
            "_model_module": "@jupyter-widgets/base",
            "top": null,
            "grid_column": null,
            "overflow_y": null,
            "overflow_x": null,
            "grid_auto_flow": null,
            "grid_area": null,
            "grid_template_columns": null,
            "flex": null,
            "_model_name": "LayoutModel",
            "justify_items": null,
            "grid_row": null,
            "max_height": null,
            "align_content": null,
            "visibility": null,
            "align_self": null,
            "height": null,
            "min_height": null,
            "padding": null,
            "grid_auto_rows": null,
            "grid_gap": null,
            "max_width": null,
            "order": null,
            "_view_module_version": "1.2.0",
            "grid_template_areas": null,
            "object_position": null,
            "object_fit": null,
            "grid_auto_columns": null,
            "margin": null,
            "display": null,
            "left": null
          }
        },
        "b9fb4984f7f84e1eb0e5f01efddfc4e6": {
          "model_module": "@jupyter-widgets/controls",
          "model_name": "FloatProgressModel",
          "state": {
            "_view_name": "ProgressView",
            "style": "IPY_MODEL_00c1a21ffa3d46efb222afa9450b75db",
            "_dom_classes": [],
            "description": "100%",
            "_model_name": "FloatProgressModel",
            "bar_style": "success",
            "max": 87306240,
            "_view_module": "@jupyter-widgets/controls",
            "_model_module_version": "1.5.0",
            "value": 87306240,
            "_view_count": null,
            "_view_module_version": "1.5.0",
            "orientation": "horizontal",
            "min": 0,
            "description_tooltip": null,
            "_model_module": "@jupyter-widgets/controls",
            "layout": "IPY_MODEL_6ab56e5400644b4399fb701cbf965c5b"
          }
        },
        "a9f6aae808d5474b8534bfefe86e3545": {
          "model_module": "@jupyter-widgets/controls",
          "model_name": "HTMLModel",
          "state": {
            "_view_name": "HTMLView",
            "style": "IPY_MODEL_8d489af8e2af42faa6ee7a58bb2681eb",
            "_dom_classes": [],
            "description": "",
            "_model_name": "HTMLModel",
            "placeholder": "​",
            "_view_module": "@jupyter-widgets/controls",
            "_model_module_version": "1.5.0",
            "value": " 83.3M/83.3M [00:01&lt;00:00, 52.9MB/s]",
            "_view_count": null,
            "_view_module_version": "1.5.0",
            "description_tooltip": null,
            "_model_module": "@jupyter-widgets/controls",
            "layout": "IPY_MODEL_8cdf421f8536412b9305c5b39e852f63"
          }
        },
        "00c1a21ffa3d46efb222afa9450b75db": {
          "model_module": "@jupyter-widgets/controls",
          "model_name": "ProgressStyleModel",
          "state": {
            "_view_name": "StyleView",
            "_model_name": "ProgressStyleModel",
            "description_width": "initial",
            "_view_module": "@jupyter-widgets/base",
            "_model_module_version": "1.5.0",
            "_view_count": null,
            "_view_module_version": "1.2.0",
            "bar_color": null,
            "_model_module": "@jupyter-widgets/controls"
          }
        },
        "6ab56e5400644b4399fb701cbf965c5b": {
          "model_module": "@jupyter-widgets/base",
          "model_name": "LayoutModel",
          "state": {
            "_view_name": "LayoutView",
            "grid_template_rows": null,
            "right": null,
            "justify_content": null,
            "_view_module": "@jupyter-widgets/base",
            "overflow": null,
            "_model_module_version": "1.2.0",
            "_view_count": null,
            "flex_flow": null,
            "width": null,
            "min_width": null,
            "border": null,
            "align_items": null,
            "bottom": null,
            "_model_module": "@jupyter-widgets/base",
            "top": null,
            "grid_column": null,
            "overflow_y": null,
            "overflow_x": null,
            "grid_auto_flow": null,
            "grid_area": null,
            "grid_template_columns": null,
            "flex": null,
            "_model_name": "LayoutModel",
            "justify_items": null,
            "grid_row": null,
            "max_height": null,
            "align_content": null,
            "visibility": null,
            "align_self": null,
            "height": null,
            "min_height": null,
            "padding": null,
            "grid_auto_rows": null,
            "grid_gap": null,
            "max_width": null,
            "order": null,
            "_view_module_version": "1.2.0",
            "grid_template_areas": null,
            "object_position": null,
            "object_fit": null,
            "grid_auto_columns": null,
            "margin": null,
            "display": null,
            "left": null
          }
        },
        "8d489af8e2af42faa6ee7a58bb2681eb": {
          "model_module": "@jupyter-widgets/controls",
          "model_name": "DescriptionStyleModel",
          "state": {
            "_view_name": "StyleView",
            "_model_name": "DescriptionStyleModel",
            "description_width": "",
            "_view_module": "@jupyter-widgets/base",
            "_model_module_version": "1.5.0",
            "_view_count": null,
            "_view_module_version": "1.2.0",
            "_model_module": "@jupyter-widgets/controls"
          }
        },
        "8cdf421f8536412b9305c5b39e852f63": {
          "model_module": "@jupyter-widgets/base",
          "model_name": "LayoutModel",
          "state": {
            "_view_name": "LayoutView",
            "grid_template_rows": null,
            "right": null,
            "justify_content": null,
            "_view_module": "@jupyter-widgets/base",
            "overflow": null,
            "_model_module_version": "1.2.0",
            "_view_count": null,
            "flex_flow": null,
            "width": null,
            "min_width": null,
            "border": null,
            "align_items": null,
            "bottom": null,
            "_model_module": "@jupyter-widgets/base",
            "top": null,
            "grid_column": null,
            "overflow_y": null,
            "overflow_x": null,
            "grid_auto_flow": null,
            "grid_area": null,
            "grid_template_columns": null,
            "flex": null,
            "_model_name": "LayoutModel",
            "justify_items": null,
            "grid_row": null,
            "max_height": null,
            "align_content": null,
            "visibility": null,
            "align_self": null,
            "height": null,
            "min_height": null,
            "padding": null,
            "grid_auto_rows": null,
            "grid_gap": null,
            "max_width": null,
            "order": null,
            "_view_module_version": "1.2.0",
            "grid_template_areas": null,
            "object_position": null,
            "object_fit": null,
            "grid_auto_columns": null,
            "margin": null,
            "display": null,
            "left": null
          }
        }
      }
    }
  },
  "cells": [
    {
      "cell_type": "markdown",
      "metadata": {
        "id": "view-in-github",
        "colab_type": "text"
      },
      "source": [
        "<a href=\"https://colab.research.google.com/github/jisoolee11/AI_study/blob/main/RESNET34_CIFAR10(test2).ipynb\" target=\"_parent\"><img src=\"https://colab.research.google.com/assets/colab-badge.svg\" alt=\"Open In Colab\"/></a>"
      ]
    },
    {
      "cell_type": "code",
      "metadata": {
        "id": "eI5kc9i9aKIY"
      },
      "source": [
        "# 라이브러리 불러오기\r\n",
        "import torch\r\n",
        "import torchvision\r\n",
        "import torchvision.transforms as transforms"
      ],
      "execution_count": 1,
      "outputs": []
    },
    {
      "cell_type": "code",
      "metadata": {
        "colab": {
          "base_uri": "https://localhost:8080/",
          "height": 102,
          "referenced_widgets": [
            "39d3b1d35a9f426fae311de2c41dde57",
            "6ca07817788b46b5a623f79c368a0231",
            "2971dc2534934bb49eedb633c1392b75",
            "dd5bddd0fc13457dbf407303ebda7e60",
            "f705d1e4b17a4319b3ffbf73287b386a",
            "3b08244732ae469fa313b5f814ad3c28",
            "ecf0e4d05a434d5386250ece26e8ee79",
            "2afa9895287d452b8ec987c3e5495227"
          ]
        },
        "id": "AFcT9F1oalQS",
        "outputId": "685ceca1-e850-4c0c-c249-7f9b4e44942c"
      },
      "source": [
        "# CIFAR10 불러오고 정규화하기\r\n",
        "transform = transforms.Compose(\r\n",
        "    [transforms.ToTensor(),\r\n",
        "     transforms.Normalize((0.5, 0.5, 0.5), (0.5, 0.5, 0.5))])\r\n",
        "\r\n",
        "trainset = torchvision.datasets.CIFAR10(root='./data', train=True, download=True, transform=transform)\r\n",
        "trainloader = torch.utils.data.DataLoader(trainset, batch_size=100, shuffle=True, num_workers=2)\r\n",
        "\r\n",
        "testset = torchvision.datasets.CIFAR10(root='./data', train=False, download=True, transform=transform)\r\n",
        "testloader = torch.utils.data.DataLoader(testset, batch_size=100, shuffle=False, num_workers=2)\r\n",
        "\r\n",
        "classes = ('plane', 'car', 'bird', 'cat', 'deer', 'dog', 'frog', 'horse', 'ship', 'truck')\r\n"
      ],
      "execution_count": 2,
      "outputs": [
        {
          "output_type": "stream",
          "text": [
            "Downloading https://www.cs.toronto.edu/~kriz/cifar-10-python.tar.gz to ./data/cifar-10-python.tar.gz\n"
          ],
          "name": "stdout"
        },
        {
          "output_type": "display_data",
          "data": {
            "application/vnd.jupyter.widget-view+json": {
              "model_id": "39d3b1d35a9f426fae311de2c41dde57",
              "version_minor": 0,
              "version_major": 2
            },
            "text/plain": [
              "HBox(children=(FloatProgress(value=1.0, bar_style='info', max=1.0), HTML(value='')))"
            ]
          },
          "metadata": {
            "tags": []
          }
        },
        {
          "output_type": "stream",
          "text": [
            "Extracting ./data/cifar-10-python.tar.gz to ./data\n",
            "Files already downloaded and verified\n"
          ],
          "name": "stdout"
        }
      ]
    },
    {
      "cell_type": "code",
      "metadata": {
        "id": "fwMO_9qkdmRi"
      },
      "source": [
        "import torch.nn as nn\r\n",
        "import torch.nn.functional as F\r\n",
        "from torchsummary import summary\r\n",
        "\r\n",
        "\r\n",
        "\r\n",
        "# class VGG16(nn.Module):\r\n",
        "#     def __init__(\r\n",
        "#         self,\r\n",
        "#         in_channels: int = 3) -> None:\r\n",
        "#         super().__init__()\r\n",
        "#         self.conv1_1 = nn.Conv2d(in_channels, 32, kernel_size=3, padding=1)\r\n",
        "#         self.conv1_2 = nn.Conv2d(32, 32, kernel_size=3, padding=1)\r\n",
        "\r\n",
        "#         self.conv2_1 = nn.Conv2d(32, 64, kernel_size=3, padding=1)\r\n",
        "#         self.conv2_2 = nn.Conv2d(64, 64, kernel_size=3, padding=1)\r\n",
        "\r\n",
        "#         self.conv3_1 = nn.Conv2d(64, 128, kernel_size=3, padding=1)\r\n",
        "#         self.conv3_2 = nn.Conv2d(128, 128, kernel_size=3, padding=1)\r\n",
        "#         self.conv3_3 = nn.Conv2d(128, 128, kernel_size=1, padding=1)\r\n",
        "\r\n",
        "#         self.conv4_1 = nn.Conv2d(128, 256, kernel_size=3, padding=1)\r\n",
        "#         self.conv4_2 = nn.Conv2d(256, 256, kernel_size=3, padding=1)\r\n",
        "#         self.conv4_3 = nn.Conv2d(256, 256, kernel_size=1, padding=1)\r\n",
        "\r\n",
        "#         self.conv5_1 = nn.Conv2d(256, 256, kernel_size=3, padding=1)\r\n",
        "#         self.conv5_2 = nn.Conv2d(256, 256, kernel_size=3, padding=1)\r\n",
        "#         self.conv5_3 = nn.Conv2d(256, 256, kernel_size=1, padding=1)\r\n",
        "\r\n",
        "#         self.pool = nn.AdaptiveAvgPool2d((2, 2))\r\n",
        "\r\n",
        "#         self.fc6 = nn.Linear(in_features=256*2*2, out_features=512)\r\n",
        "#         self.fc7 = nn.Linear(in_features=512, out_features=512)\r\n",
        "#         self.fc8 = nn.Linear(in_features=512, out_features=10)\r\n",
        "        \r\n",
        "    \r\n",
        "#     def forward(self, x):\r\n",
        "#       x = F.relu(self.conv1_1(x))\r\n",
        "#       x = F.relu(self.conv1_2(x))\r\n",
        "#       x = self.pool(x)\r\n",
        "#       x = F.relu(self.conv2_1(x))\r\n",
        "#       x = F.relu(self.conv2_2(x))\r\n",
        "#       x = self.pool(x)\r\n",
        "#       x = F.relu(self.conv3_1(x))\r\n",
        "#       x = F.relu(self.conv3_2(x))\r\n",
        "#       x = F.relu(self.conv3_3(x))\r\n",
        "#       x = self.pool(x)\r\n",
        "#       x = F.relu(self.conv4_1(x))\r\n",
        "#       x = F.relu(self.conv4_2(x))\r\n",
        "#       x = F.relu(self.conv4_3(x))\r\n",
        "#       x = self.pool(x)\r\n",
        "#       x = F.relu(self.conv5_1(x))\r\n",
        "#       x = F.relu(self.conv5_2(x))\r\n",
        "#       x = F.relu(self.conv5_3(x))\r\n",
        "#       x = self.pool(x)\r\n",
        "\r\n",
        "#       x = x.view(-1, 2*2*256)\r\n",
        "\r\n",
        "#       x = F.relu(self.fc6(x))\r\n",
        "#       x = F.relu(self.fc7(x))\r\n",
        "#       x = F.relu(self.fc8(x))\r\n",
        "      \r\n",
        "#       return x\r\n",
        "\r\n",
        "\r\n"
      ],
      "execution_count": 3,
      "outputs": []
    },
    {
      "cell_type": "code",
      "metadata": {
        "id": "0f023yLP7dPU",
        "colab": {
          "base_uri": "https://localhost:8080/",
          "height": 84,
          "referenced_widgets": [
            "9d0aed3ed8d04ef8bcc18bbf2c3fe29b",
            "399e041dc76a44319a05d4673cf5ff9b",
            "b9fb4984f7f84e1eb0e5f01efddfc4e6",
            "a9f6aae808d5474b8534bfefe86e3545",
            "00c1a21ffa3d46efb222afa9450b75db",
            "6ab56e5400644b4399fb701cbf965c5b",
            "8d489af8e2af42faa6ee7a58bb2681eb",
            "8cdf421f8536412b9305c5b39e852f63"
          ]
        },
        "outputId": "4bf94e2c-68bc-45aa-8f0c-2f285ded2f32"
      },
      "source": [
        "from torchvision.models import resnet34\r\n",
        "\r\n",
        "model = resnet34(pretrained=True)\r\n",
        "model.fc = nn.Linear(model.fc.in_features, 10)\r\n",
        "device = torch.device('cuda:0' if torch.cuda.is_available() else 'cpu')\r\n",
        "\r\n",
        "model = model.to(device)"
      ],
      "execution_count": 4,
      "outputs": [
        {
          "output_type": "stream",
          "text": [
            "Downloading: \"https://download.pytorch.org/models/resnet34-333f7ec4.pth\" to /root/.cache/torch/hub/checkpoints/resnet34-333f7ec4.pth\n"
          ],
          "name": "stderr"
        },
        {
          "output_type": "display_data",
          "data": {
            "application/vnd.jupyter.widget-view+json": {
              "model_id": "9d0aed3ed8d04ef8bcc18bbf2c3fe29b",
              "version_minor": 0,
              "version_major": 2
            },
            "text/plain": [
              "HBox(children=(FloatProgress(value=0.0, max=87306240.0), HTML(value='')))"
            ]
          },
          "metadata": {
            "tags": []
          }
        },
        {
          "output_type": "stream",
          "text": [
            "\n"
          ],
          "name": "stdout"
        }
      ]
    },
    {
      "cell_type": "code",
      "metadata": {
        "id": "yVcaWwboiL9b"
      },
      "source": [
        "import torch.optim as optim\r\n",
        "\r\n",
        "criterion = nn. CrossEntropyLoss().to(device)\r\n",
        "optimizer = optim.SGD(model.parameters(), lr=1e-3, momentum=0.9)"
      ],
      "execution_count": 5,
      "outputs": []
    },
    {
      "cell_type": "code",
      "metadata": {
        "id": "NYrp1dVBi_kD",
        "colab": {
          "base_uri": "https://localhost:8080/"
        },
        "outputId": "3b5610b7-3f84-4aab-c053-e59e0dd11210"
      },
      "source": [
        "model.train()\r\n",
        "for epoch in range(2):\r\n",
        "    # running_loss = 0.0\r\n",
        "    for i, data in enumerate(trainloader):\r\n",
        "        inputs, labels = data[0].to(device), data[1].to(device)\r\n",
        "\r\n",
        "        optimizer.zero_grad()\r\n",
        "\r\n",
        "        outputs = model(inputs)\r\n",
        "        loss = criterion(outputs, labels)\r\n",
        "        loss.backward()\r\n",
        "        optimizer.step()\r\n",
        "\r\n",
        "        # running_loss += loss.item()\r\n",
        "        if i % 100 == 0:\r\n",
        "            print('[%d, %5d] loss: %.3f' % (epoch+1, i+1, loss.item()))\r\n",
        "\r\n",
        "print('Finished Training')"
      ],
      "execution_count": 6,
      "outputs": [
        {
          "output_type": "stream",
          "text": [
            "[1,     1] loss: 2.711\n",
            "[1,   101] loss: 1.155\n",
            "[1,   201] loss: 0.963\n",
            "[1,   301] loss: 0.857\n",
            "[1,   401] loss: 0.783\n",
            "[2,     1] loss: 0.649\n",
            "[2,   101] loss: 0.604\n",
            "[2,   201] loss: 0.499\n",
            "[2,   301] loss: 0.594\n",
            "[2,   401] loss: 0.562\n",
            "Finished Training\n"
          ],
          "name": "stdout"
        }
      ]
    },
    {
      "cell_type": "code",
      "metadata": {
        "id": "vYu3K9akzKLB",
        "colab": {
          "base_uri": "https://localhost:8080/"
        },
        "outputId": "38044ad0-d69a-47ca-9f4b-c4df422b6d36"
      },
      "source": [
        "class_correct = list(0. for i in range(10))\r\n",
        "class_total = list(0. for i in range(10))\r\n",
        "with torch.no_grad():\r\n",
        "    for data in testloader:\r\n",
        "        images, labels = data[0].to(device), data[1].to(device)\r\n",
        "        outputs = model(images)\r\n",
        "        _, predicted = torch.max(outputs, 1)\r\n",
        "        c = (predicted == labels).squeeze()\r\n",
        "        for i in range(4):\r\n",
        "            label = labels[i]\r\n",
        "            class_correct[label] += c[i].item()\r\n",
        "            class_total[label] += 1\r\n",
        "\r\n",
        "\r\n",
        "for i in range(10):\r\n",
        "    print('Accuracy of %5s : %2d %%' % (\r\n",
        "        classes[i], 100 * class_correct[i] / class_total[i]))"
      ],
      "execution_count": 8,
      "outputs": [
        {
          "output_type": "stream",
          "text": [
            "Accuracy of plane : 81 %\n",
            "Accuracy of   car : 90 %\n",
            "Accuracy of  bird : 63 %\n",
            "Accuracy of   cat : 67 %\n",
            "Accuracy of  deer : 71 %\n",
            "Accuracy of   dog : 59 %\n",
            "Accuracy of  frog : 86 %\n",
            "Accuracy of horse : 84 %\n",
            "Accuracy of  ship : 87 %\n",
            "Accuracy of truck : 72 %\n"
          ],
          "name": "stdout"
        }
      ]
    }
  ]
}