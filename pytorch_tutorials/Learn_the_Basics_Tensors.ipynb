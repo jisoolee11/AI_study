{
  "nbformat": 4,
  "nbformat_minor": 0,
  "metadata": {
    "colab": {
      "name": "Learn the Basics_Tensors.ipynb",
      "provenance": [],
      "authorship_tag": "ABX9TyNjyFBWFYuwIEV6skzaBqxn",
      "include_colab_link": true
    },
    "kernelspec": {
      "name": "python3",
      "display_name": "Python 3"
    }
  },
  "cells": [
    {
      "cell_type": "markdown",
      "metadata": {
        "id": "view-in-github",
        "colab_type": "text"
      },
      "source": [
        "<a href=\"https://colab.research.google.com/github/jisoolee11/study/blob/main/pytorch_tutorials/Learn_the_Basics_Tensors.ipynb\" target=\"_parent\"><img src=\"https://colab.research.google.com/assets/colab-badge.svg\" alt=\"Open In Colab\"/></a>"
      ]
    },
    {
      "cell_type": "markdown",
      "metadata": {
        "id": "T5ZWwk5NgYMR"
      },
      "source": [
        "# Tensors"
      ]
    },
    {
      "cell_type": "code",
      "metadata": {
        "id": "73pbpWeRgVWJ"
      },
      "source": [
        "import torch\r\n",
        "import numpy as np"
      ],
      "execution_count": 1,
      "outputs": []
    },
    {
      "cell_type": "markdown",
      "metadata": {
        "id": "p0gK3X12ghXI"
      },
      "source": [
        "## Initializing a Tensor"
      ]
    },
    {
      "cell_type": "code",
      "metadata": {
        "colab": {
          "base_uri": "https://localhost:8080/"
        },
        "id": "q2W1ALQ2fyl1",
        "outputId": "a1d3475f-7ae6-4eac-c65c-cf025f049784"
      },
      "source": [
        "#Directly from data\r\n",
        "data = [[1, 2], [3, 4]]\r\n",
        "x_data = torch.tensor(data)\r\n",
        "\r\n",
        "#From a NumPy array\r\n",
        "np_array = np.array(data)\r\n",
        "x_np = torch.from_numpy(np_array)\r\n",
        "\r\n",
        "# From another tensor\r\n",
        "x_ones = torch.ones_like(x_data)\r\n",
        "print(f\"Ones Tnesor: \\n {x_ones} \\n\")\r\n",
        "\r\n",
        "x_rand =torch.rand_like(x_data, dtype=torch.float)\r\n",
        "print(f\"Random Tensor: \\n {x_rand} \\n\")"
      ],
      "execution_count": 5,
      "outputs": [
        {
          "output_type": "stream",
          "text": [
            "Ones Tnesor: \n",
            " tensor([[1, 1],\n",
            "        [1, 1]]) \n",
            "\n",
            "Random Tensor: \n",
            " tensor([[0.1779, 0.2627],\n",
            "        [0.9265, 0.9905]]) \n",
            "\n"
          ],
          "name": "stdout"
        }
      ]
    },
    {
      "cell_type": "markdown",
      "metadata": {
        "id": "00urmI1ViUQO"
      },
      "source": [
        "## Attributes of a Tensor"
      ]
    },
    {
      "cell_type": "code",
      "metadata": {
        "id": "qql3rVG-hWy3",
        "colab": {
          "base_uri": "https://localhost:8080/"
        },
        "outputId": "c292d181-0d28-4652-db9f-206b76845aa5"
      },
      "source": [
        "tensor = torch.rand(3, 4)\r\n",
        "\r\n",
        "print(f\"Shape od tensor: {tensor.shape}\")\r\n",
        "print(f\"Datatype of tensor: {tensor.dtype}\")\r\n",
        "print(f\"Device tensor is stored on: {tensor.device}\")"
      ],
      "execution_count": 7,
      "outputs": [
        {
          "output_type": "stream",
          "text": [
            "Shape od tensor: torch.Size([3, 4])\n",
            "Datatype of tensor: torch.float32\n",
            "Device tensor is stored on: cpu\n"
          ],
          "name": "stdout"
        }
      ]
    },
    {
      "cell_type": "markdown",
      "metadata": {
        "id": "NiGzEdUfjMea"
      },
      "source": [
        "## Operations on Tensors"
      ]
    },
    {
      "cell_type": "code",
      "metadata": {
        "colab": {
          "base_uri": "https://localhost:8080/"
        },
        "id": "EYRZUQZ2jVyB",
        "outputId": "d06b3df1-5952-48f9-ebbe-14dcc9dfafb1"
      },
      "source": [
        "if torch.cuda.is_available():\r\n",
        "  tensor = tensor.to('cuda')\r\n",
        "\r\n",
        "#Standard numpy-like indexing and slicig\r\n",
        "tensor = torch.ones(4, 4)\r\n",
        "print('First row: ', tensor[0])\r\n",
        "print('First column: ', tensor[:, 0])\r\n",
        "print('Last column: ', tensor[..., -1])\r\n",
        "tensor[:, 1] = 0\r\n",
        "print(tensor)"
      ],
      "execution_count": 9,
      "outputs": [
        {
          "output_type": "stream",
          "text": [
            "First row:  tensor([1., 1., 1., 1.])\n",
            "First column:  tensor([1., 1., 1., 1.])\n",
            "Last column:  tensor([1., 1., 1., 1.])\n",
            "tensor([[1., 0., 1., 1.],\n",
            "        [1., 0., 1., 1.],\n",
            "        [1., 0., 1., 1.],\n",
            "        [1., 0., 1., 1.]])\n"
          ],
          "name": "stdout"
        }
      ]
    },
    {
      "cell_type": "code",
      "metadata": {
        "colab": {
          "base_uri": "https://localhost:8080/"
        },
        "id": "hMxRX_OUj9_V",
        "outputId": "3700244b-6bc3-4e98-c839-1c4ef28896b1"
      },
      "source": [
        "# Joining tensors\r\n",
        "t1 = torch.cat([tensor, tensor, tensor], dim=1)\r\n",
        "print(t1)"
      ],
      "execution_count": 10,
      "outputs": [
        {
          "output_type": "stream",
          "text": [
            "tensor([[1., 0., 1., 1., 1., 0., 1., 1., 1., 0., 1., 1.],\n",
            "        [1., 0., 1., 1., 1., 0., 1., 1., 1., 0., 1., 1.],\n",
            "        [1., 0., 1., 1., 1., 0., 1., 1., 1., 0., 1., 1.],\n",
            "        [1., 0., 1., 1., 1., 0., 1., 1., 1., 0., 1., 1.]])\n"
          ],
          "name": "stdout"
        }
      ]
    },
    {
      "cell_type": "code",
      "metadata": {
        "colab": {
          "base_uri": "https://localhost:8080/"
        },
        "id": "koCMFWyykWkn",
        "outputId": "6e44a8d9-fe45-4e61-af68-07fa2d6321ef"
      },
      "source": [
        "# Arithmetic operations\r\n",
        "y1 = tensor @ tensor.T\r\n",
        "y2 = tensor.matmul(tensor.T)\r\n",
        "\r\n",
        "y3 = torch.rand_like(tensor)\r\n",
        "torch.matmul(tensor, tensor.T, out=y3)\r\n",
        "\r\n",
        "z1 = tensor * tensor\r\n",
        "z2 = tensor.mul(tensor)\r\n",
        "\r\n",
        "z3 = torch.rand_like(tensor)\r\n",
        "torch.mul(tensor, tensor, out=z3)\r\n",
        "\r\n",
        "# Single-element tnesors\r\n",
        "agg = tensor.sum()\r\n",
        "agg_item = agg.item()\r\n",
        "print(agg_item, type(agg_item))\r\n",
        "\r\n",
        "# In-place operations\r\n",
        "print(tensor, \"\\n\")\r\n",
        "tensor.add_(5)\r\n",
        "print(tensor)"
      ],
      "execution_count": 18,
      "outputs": [
        {
          "output_type": "stream",
          "text": [
            "12.0 <class 'float'>\n",
            "tensor([[1., 0., 1., 1.],\n",
            "        [1., 0., 1., 1.],\n",
            "        [1., 0., 1., 1.],\n",
            "        [1., 0., 1., 1.]]) \n",
            "\n",
            "tensor([[6., 5., 6., 6.],\n",
            "        [6., 5., 6., 6.],\n",
            "        [6., 5., 6., 6.],\n",
            "        [6., 5., 6., 6.]])\n"
          ],
          "name": "stdout"
        }
      ]
    },
    {
      "cell_type": "markdown",
      "metadata": {
        "id": "dsEGLpPkllFN"
      },
      "source": [
        "## Bridge with NumPy"
      ]
    },
    {
      "cell_type": "code",
      "metadata": {
        "colab": {
          "base_uri": "https://localhost:8080/"
        },
        "id": "5YUXMrSTmFDi",
        "outputId": "96b2d6e5-afce-4aca-f344-0ff74ffb3825"
      },
      "source": [
        "# Tensor to NumPy array\r\n",
        "t = torch.ones(5)\r\n",
        "print(f\"t: {t}\")\r\n",
        "n = t.numpy()\r\n",
        "print(f\"n: {n}\")\r\n",
        "\r\n",
        "t.add_(1)\r\n",
        "print(f\"t: {t}\")\r\n",
        "print(f\"n: {n}\")"
      ],
      "execution_count": 20,
      "outputs": [
        {
          "output_type": "stream",
          "text": [
            "t: tensor([1., 1., 1., 1., 1.])\n",
            "n: [1. 1. 1. 1. 1.]\n",
            "t: tensor([2., 2., 2., 2., 2.])\n",
            "n: [2. 2. 2. 2. 2.]\n"
          ],
          "name": "stdout"
        }
      ]
    },
    {
      "cell_type": "code",
      "metadata": {
        "colab": {
          "base_uri": "https://localhost:8080/"
        },
        "id": "CI0PhWX5mYIl",
        "outputId": "7bedb2d6-7df2-401d-f6d0-702ace54db25"
      },
      "source": [
        "# NumPy array to Tensor\r\n",
        "n = np.ones(5)\r\n",
        "t = torch.from_numpy(n)\r\n",
        "\r\n",
        "np. add(n, 1, out=n)\r\n",
        "print(f\"t: {t}\")\r\n",
        "print(f\"n: {n}\")"
      ],
      "execution_count": 28,
      "outputs": [
        {
          "output_type": "stream",
          "text": [
            "t: tensor([2., 2., 2., 2., 2.], dtype=torch.float64)\n",
            "n: [2. 2. 2. 2. 2.]\n"
          ],
          "name": "stdout"
        }
      ]
    }
  ]
}