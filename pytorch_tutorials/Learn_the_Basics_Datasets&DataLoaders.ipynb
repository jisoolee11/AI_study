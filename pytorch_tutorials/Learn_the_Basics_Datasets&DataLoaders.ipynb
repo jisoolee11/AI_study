{
  "nbformat": 4,
  "nbformat_minor": 0,
  "metadata": {
    "colab": {
      "name": "Learn the Basics_Datasets&DataLoaders.ipynb",
      "provenance": [],
      "authorship_tag": "ABX9TyMvCSVI9DxCW1iZwJ8fi5Go",
      "include_colab_link": true
    },
    "kernelspec": {
      "name": "python3",
      "display_name": "Python 3"
    }
  },
  "cells": [
    {
      "cell_type": "markdown",
      "metadata": {
        "id": "view-in-github",
        "colab_type": "text"
      },
      "source": [
        "<a href=\"https://colab.research.google.com/github/jisoolee11/study/blob/main/pytorch_tutorials/Learn_the_Basics_Datasets%26DataLoaders.ipynb\" target=\"_parent\"><img src=\"https://colab.research.google.com/assets/colab-badge.svg\" alt=\"Open In Colab\"/></a>"
      ]
    },
    {
      "cell_type": "markdown",
      "metadata": {
        "id": "R_ndqwxJoPUB"
      },
      "source": [
        "# Datassets & DataLoaders"
      ]
    },
    {
      "cell_type": "markdown",
      "metadata": {
        "id": "LfGhTW1Ronvm"
      },
      "source": [
        "## Loading a Dataset"
      ]
    },
    {
      "cell_type": "code",
      "metadata": {
        "id": "AiOMnz_mot4m"
      },
      "source": [
        "import torch\r\n",
        "from torch.utils.data import Dataset\r\n",
        "from torchvision import datasets\r\n",
        "from torchvision.transforms import ToTensor, Lambda\r\n",
        "import matplotlib.pyplot as plt\r\n",
        "\r\n",
        "\r\n",
        "training_data = datasets.FashionMNIST(\r\n",
        "    root=\"data\",\r\n",
        "    train=True,\r\n",
        "    download=True,\r\n",
        "    transform=ToTensor()\r\n",
        ")\r\n",
        "\r\n",
        "test_data = datasets.FashionMNIST(\r\n",
        "    root=\"data\",\r\n",
        "    train=False,\r\n",
        "    download=True,\r\n",
        "    transform=ToTensor()\r\n",
        ")"
      ],
      "execution_count": 5,
      "outputs": []
    },
    {
      "cell_type": "markdown",
      "metadata": {
        "id": "uoTaQESmpn4w"
      },
      "source": [
        "## Iterating and Visualizing the Dataset"
      ]
    },
    {
      "cell_type": "code",
      "metadata": {
        "colab": {
          "base_uri": "https://localhost:8080/",
          "height": 482
        },
        "id": "gp1rRBz5p-XL",
        "outputId": "f1665334-0154-422d-e92f-a45f7d5aad0e"
      },
      "source": [
        "labels_map = {\r\n",
        "    0: \"T-Shirt\",\r\n",
        "    1: \"Trouser\",\r\n",
        "    2: \"Pullover\",\r\n",
        "    3: \"Dress\",\r\n",
        "    4: \"Coat\",\r\n",
        "    5: \"Sandal\",\r\n",
        "    6: \"Shirt\",\r\n",
        "    7: \"Sneaker\",\r\n",
        "    8: \"Bag\",\r\n",
        "    9: \"Ankle Boot\",\r\n",
        "}\r\n",
        "figure = plt.figure(figsize=(8, 8))\r\n",
        "cols, rows =3, 3\r\n",
        "for i in range(1, cols *rows + 1):\r\n",
        "    sample_idx = torch.randint(len(training_data), size=(1,)).item()\r\n",
        "    img, label = training_data[sample_idx]\r\n",
        "    figure.add_subplot(rows, cols, i)\r\n",
        "    plt.title(labels_map[label])\r\n",
        "    plt.axis(\"off\")\r\n",
        "    plt.imshow(img.squeeze(), cmap=\"gray\")\r\n",
        "plt.show()\r\n"
      ],
      "execution_count": 7,
      "outputs": [
        {
          "output_type": "display_data",
          "data": {
            "image/png": "[encoded data removed]",
            "text/plain": [
              "<Figure size 576x576 with 9 Axes>"
            ]
          },
          "metadata": {
            "tags": [],
            "needs_background": "light"
          }
        }
      ]
    },
    {
      "cell_type": "markdown",
      "metadata": {
        "id": "roor0ly0rQx6"
      },
      "source": [
        "## Creating a Custom Dataset for your files"
      ]
    },
    {
      "cell_type": "code",
      "metadata": {
        "id": "-XeNBKPatxJ0"
      },
      "source": [
        "import os \r\n",
        "import pandas as pd\r\n",
        "from torchvision.io import read_image\r\n",
        "\r\n",
        "class CustomImageDataset(Dataset):\r\n",
        "    def __init__(self, annotations_file, img_dir, transform=None, target_transform=None):\r\n",
        "        self.img_labels =pd.read_csv(annotations_file)\r\n",
        "        self.img_dir = img_dir\r\n",
        "        self.transform = transform\r\n",
        "        self.target_transform = target_transform\r\n",
        "\r\n",
        "    def __len__(self):\r\n",
        "        return len(self.img_labels)\r\n",
        "\r\n",
        "    def __getitem__(self, idx):\r\n",
        "        img_path = os.path.join(self.img_dir, self.img_labels.iloc[idx, 0])\r\n",
        "        image = read_image(img_path)\r\n",
        "        label = self.img_labels.iloc[idx, 1]\r\n",
        "        if self.transform:\r\n",
        "            image = self.transform(image)\r\n",
        "        if self.target_transform:\r\n",
        "            label = self.target_transform(label)\r\n",
        "        sample = {\"image\": image, \"label\": label}\r\n",
        "        return sample"
      ],
      "execution_count": 8,
      "outputs": []
    },
    {
      "cell_type": "markdown",
      "metadata": {
        "id": "3eFm2u0JwXil"
      },
      "source": [
        "## Preparing your data for training with DataLoaders"
      ]
    },
    {
      "cell_type": "code",
      "metadata": {
        "id": "eG5eLt4ayE1v"
      },
      "source": [
        "from torch.utils.data import DataLoader\r\n",
        "\r\n",
        "train_dataloader = DataLoader(training_data, batch_size=64, shuffle=True)\r\n",
        "test_dataloader = DataLoader(test_data, batch_size=64, shuffle=True)"
      ],
      "execution_count": 9,
      "outputs": []
    },
    {
      "cell_type": "markdown",
      "metadata": {
        "id": "5Zf4L0e2zEOh"
      },
      "source": [
        "## Iterate through the DataLoader"
      ]
    },
    {
      "cell_type": "code",
      "metadata": {
        "colab": {
          "base_uri": "https://localhost:8080/",
          "height": 318
        },
        "id": "o56WzCsQzJaI",
        "outputId": "69dd5298-b002-47a8-e13d-90e6105268e3"
      },
      "source": [
        "train_features, train_labels = next(iter(train_dataloader))\r\n",
        "print(f\"Feature btch shape: {train_features.size()}\")\r\n",
        "print(f\"Labels batch shape: {train_labels.size()}\")\r\n",
        "img = train_features[0].squeeze()\r\n",
        "label = train_labels[0]\r\n",
        "plt.imshow(img, cmap=\"gray\")\r\n",
        "plt.show()\r\n",
        "print(f\"Label: {label}\")"
      ],
      "execution_count": 11,
      "outputs": [
        {
          "output_type": "stream",
          "text": [
            "Feature btch shape: torch.Size([64, 1, 28, 28])\n",
            "Labels batch shape: torch.Size([64])\n"
          ],
          "name": "stdout"
        },
        {
          "output_type": "display_data",
          "data": {
            "image/png": "[encoded data removed]",
            "text/plain": [
              "<Figure size 432x288 with 1 Axes>"
            ]
          },
          "metadata": {
            "tags": [],
            "needs_background": "light"
          }
        },
        {
          "output_type": "stream",
          "text": [
            "Label: 6\n"
          ],
          "name": "stdout"
        }
      ]
    }
  ]
}