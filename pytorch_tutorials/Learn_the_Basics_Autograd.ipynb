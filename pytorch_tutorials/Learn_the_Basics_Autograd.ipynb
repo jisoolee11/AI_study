{
  "nbformat": 4,
  "nbformat_minor": 0,
  "metadata": {
    "colab": {
      "name": "Learn the Basics_Autograd.ipynb",
      "provenance": [],
      "authorship_tag": "ABX9TyPF2l4K4hpBl9BbihIAR15K",
      "include_colab_link": true
    },
    "kernelspec": {
      "name": "python3",
      "display_name": "Python 3"
    }
  },
  "cells": [
    {
      "cell_type": "markdown",
      "metadata": {
        "id": "view-in-github",
        "colab_type": "text"
      },
      "source": [
        "<a href=\"https://colab.research.google.com/github/jisoolee11/study/blob/main/pytorch_tutorials/Learn_the_Basics_Autograd.ipynb\" target=\"_parent\"><img src=\"https://colab.research.google.com/assets/colab-badge.svg\" alt=\"Open In Colab\"/></a>"
      ]
    },
    {
      "cell_type": "markdown",
      "metadata": {
        "id": "sxnUhy7338AP"
      },
      "source": [
        "# Autograd"
      ]
    },
    {
      "cell_type": "code",
      "metadata": {
        "id": "CRPWKCdR31nA"
      },
      "source": [
        "import torch\r\n",
        "\r\n",
        "x = torch.ones(5) #input tensor\r\n",
        "y = torch.zeros(3) #expected output\r\n",
        "w = torch.randn(5, 3, requires_grad=True)\r\n",
        "b = torch.randn(3, requires_grad=True)\r\n",
        "z = torch.matmul(x, w) + b\r\n",
        "loss =torch.nn.functional.binary_cross_entropy_with_logits(z, y)"
      ],
      "execution_count": 2,
      "outputs": []
    },
    {
      "cell_type": "code",
      "metadata": {
        "colab": {
          "base_uri": "https://localhost:8080/"
        },
        "id": "pB2Y8t1B40u1",
        "outputId": "f2732cce-49bb-4e0d-cce7-b147d796cfdb"
      },
      "source": [
        "print('Gradient function for z =', z.grad_fn)\r\n",
        "print('Gradient function for loss=', loss.grad_fn)"
      ],
      "execution_count": 3,
      "outputs": [
        {
          "output_type": "stream",
          "text": [
            "Gradient function for z = <AddBackward0 object at 0x7f7cab780f10>\n",
            "Gradient function for loss= <BinaryCrossEntropyWithLogitsBackward object at 0x7f7cab7fef10>\n"
          ],
          "name": "stdout"
        }
      ]
    },
    {
      "cell_type": "markdown",
      "metadata": {
        "id": "dGoskfGb5IsJ"
      },
      "source": [
        "## Computing Gradients"
      ]
    },
    {
      "cell_type": "code",
      "metadata": {
        "colab": {
          "base_uri": "https://localhost:8080/"
        },
        "id": "mytXKVcJ5QPx",
        "outputId": "e55eb486-63f5-4be8-d5ae-81790ab98bb3"
      },
      "source": [
        "loss.backward()\r\n",
        "print(w.grad)\r\n",
        "print(b.grad)"
      ],
      "execution_count": 4,
      "outputs": [
        {
          "output_type": "stream",
          "text": [
            "tensor([[0.2425, 0.1869, 0.0948],\n",
            "        [0.2425, 0.1869, 0.0948],\n",
            "        [0.2425, 0.1869, 0.0948],\n",
            "        [0.2425, 0.1869, 0.0948],\n",
            "        [0.2425, 0.1869, 0.0948]])\n",
            "tensor([0.2425, 0.1869, 0.0948])\n"
          ],
          "name": "stdout"
        }
      ]
    },
    {
      "cell_type": "markdown",
      "metadata": {
        "id": "aef70N_D5YWX"
      },
      "source": [
        "## Disabling Gradient Tracking"
      ]
    },
    {
      "cell_type": "code",
      "metadata": {
        "colab": {
          "base_uri": "https://localhost:8080/"
        },
        "id": "ZTZbt3Vq5kA1",
        "outputId": "738a1daa-d24a-4ec7-b206-4f42323e4680"
      },
      "source": [
        "z = torch.matmul(x, w) + b\r\n",
        "print(z.requires_grad)\r\n",
        "\r\n",
        "with torch.no_grad():\r\n",
        "    z = torch.matmul(x, w) + b\r\n",
        "print(z.requires_grad)"
      ],
      "execution_count": 5,
      "outputs": [
        {
          "output_type": "stream",
          "text": [
            "True\n",
            "False\n"
          ],
          "name": "stdout"
        }
      ]
    },
    {
      "cell_type": "code",
      "metadata": {
        "colab": {
          "base_uri": "https://localhost:8080/"
        },
        "id": "R4smEKi252Hr",
        "outputId": "9dd7fd87-df0d-4e0a-8bf6-be68608dc373"
      },
      "source": [
        "z = torch.matmul(x, w) + b\r\n",
        "z_det = z.detach()\r\n",
        "print(z_det.requires_grad)"
      ],
      "execution_count": 7,
      "outputs": [
        {
          "output_type": "stream",
          "text": [
            "False\n"
          ],
          "name": "stdout"
        }
      ]
    }
  ]
}