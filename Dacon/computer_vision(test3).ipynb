{
  "nbformat": 4,
  "nbformat_minor": 0,
  "metadata": {
    "accelerator": "GPU",
    "colab": {
      "name": "computer_vision(test3).ipynb",
      "provenance": [],
      "collapsed_sections": [],
      "machine_shape": "hm",
      "mount_file_id": "1rGJdrf-QTRNz_JZ-JI4rKfK9YY3Sqjah",
      "authorship_tag": "ABX9TyORBh6WvxpXwk6tCMzotMrp",
      "include_colab_link": true
    },
    "kernelspec": {
      "display_name": "Python 3",
      "name": "python3"
    },
    "widgets": {
      "application/vnd.jupyter.widget-state+json": {
        "7962cbdeff1f43929c341a16be05b1fc": {
          "model_module": "@jupyter-widgets/controls",
          "model_name": "HBoxModel",
          "state": {
            "_dom_classes": [],
            "_model_module": "@jupyter-widgets/controls",
            "_model_module_version": "1.5.0",
            "_model_name": "HBoxModel",
            "_view_count": null,
            "_view_module": "@jupyter-widgets/controls",
            "_view_module_version": "1.5.0",
            "_view_name": "HBoxView",
            "box_style": "",
            "children": [
              "IPY_MODEL_a906c54da3fa4e9e80407d819ada2f9a",
              "IPY_MODEL_31099e924d684803839fca72c2889e83"
            ],
            "layout": "IPY_MODEL_b78fc1e9dc8747cab28752d6acf60f15"
          }
        },
        "a906c54da3fa4e9e80407d819ada2f9a": {
          "model_module": "@jupyter-widgets/controls",
          "model_name": "FloatProgressModel",
          "state": {
            "_dom_classes": [],
            "_model_module": "@jupyter-widgets/controls",
            "_model_module_version": "1.5.0",
            "_model_name": "FloatProgressModel",
            "_view_count": null,
            "_view_module": "@jupyter-widgets/controls",
            "_view_module_version": "1.5.0",
            "_view_name": "ProgressView",
            "bar_style": "success",
            "description": "100%",
            "description_tooltip": null,
            "layout": "IPY_MODEL_9e56d44774704636b6ace01ccff735f3",
            "max": 178728960,
            "min": 0,
            "orientation": "horizontal",
            "style": "IPY_MODEL_9bc844f93f9a446db818438420737217",
            "value": 178728960
          }
        },
        "31099e924d684803839fca72c2889e83": {
          "model_module": "@jupyter-widgets/controls",
          "model_name": "HTMLModel",
          "state": {
            "_dom_classes": [],
            "_model_module": "@jupyter-widgets/controls",
            "_model_module_version": "1.5.0",
            "_model_name": "HTMLModel",
            "_view_count": null,
            "_view_module": "@jupyter-widgets/controls",
            "_view_module_version": "1.5.0",
            "_view_name": "HTMLView",
            "description": "",
            "description_tooltip": null,
            "layout": "IPY_MODEL_3c6c2e2b1c71492a8b5cf93038ed4a7d",
            "placeholder": "​",
            "style": "IPY_MODEL_db7543c7f68f4a9d973117127b7083a4",
            "value": " 170M/170M [00:00&lt;00:00, 243MB/s]"
          }
        },
        "b78fc1e9dc8747cab28752d6acf60f15": {
          "model_module": "@jupyter-widgets/base",
          "model_name": "LayoutModel",
          "state": {
            "_model_module": "@jupyter-widgets/base",
            "_model_module_version": "1.2.0",
            "_model_name": "LayoutModel",
            "_view_count": null,
            "_view_module": "@jupyter-widgets/base",
            "_view_module_version": "1.2.0",
            "_view_name": "LayoutView",
            "align_content": null,
            "align_items": null,
            "align_self": null,
            "border": null,
            "bottom": null,
            "display": null,
            "flex": null,
            "flex_flow": null,
            "grid_area": null,
            "grid_auto_columns": null,
            "grid_auto_flow": null,
            "grid_auto_rows": null,
            "grid_column": null,
            "grid_gap": null,
            "grid_row": null,
            "grid_template_areas": null,
            "grid_template_columns": null,
            "grid_template_rows": null,
            "height": null,
            "justify_content": null,
            "justify_items": null,
            "left": null,
            "margin": null,
            "max_height": null,
            "max_width": null,
            "min_height": null,
            "min_width": null,
            "object_fit": null,
            "object_position": null,
            "order": null,
            "overflow": null,
            "overflow_x": null,
            "overflow_y": null,
            "padding": null,
            "right": null,
            "top": null,
            "visibility": null,
            "width": null
          }
        },
        "9e56d44774704636b6ace01ccff735f3": {
          "model_module": "@jupyter-widgets/base",
          "model_name": "LayoutModel",
          "state": {
            "_model_module": "@jupyter-widgets/base",
            "_model_module_version": "1.2.0",
            "_model_name": "LayoutModel",
            "_view_count": null,
            "_view_module": "@jupyter-widgets/base",
            "_view_module_version": "1.2.0",
            "_view_name": "LayoutView",
            "align_content": null,
            "align_items": null,
            "align_self": null,
            "border": null,
            "bottom": null,
            "display": null,
            "flex": null,
            "flex_flow": null,
            "grid_area": null,
            "grid_auto_columns": null,
            "grid_auto_flow": null,
            "grid_auto_rows": null,
            "grid_column": null,
            "grid_gap": null,
            "grid_row": null,
            "grid_template_areas": null,
            "grid_template_columns": null,
            "grid_template_rows": null,
            "height": null,
            "justify_content": null,
            "justify_items": null,
            "left": null,
            "margin": null,
            "max_height": null,
            "max_width": null,
            "min_height": null,
            "min_width": null,
            "object_fit": null,
            "object_position": null,
            "order": null,
            "overflow": null,
            "overflow_x": null,
            "overflow_y": null,
            "padding": null,
            "right": null,
            "top": null,
            "visibility": null,
            "width": null
          }
        },
        "9bc844f93f9a446db818438420737217": {
          "model_module": "@jupyter-widgets/controls",
          "model_name": "ProgressStyleModel",
          "state": {
            "_model_module": "@jupyter-widgets/controls",
            "_model_module_version": "1.5.0",
            "_model_name": "ProgressStyleModel",
            "_view_count": null,
            "_view_module": "@jupyter-widgets/base",
            "_view_module_version": "1.2.0",
            "_view_name": "StyleView",
            "bar_color": null,
            "description_width": "initial"
          }
        },
        "3c6c2e2b1c71492a8b5cf93038ed4a7d": {
          "model_module": "@jupyter-widgets/base",
          "model_name": "LayoutModel",
          "state": {
            "_model_module": "@jupyter-widgets/base",
            "_model_module_version": "1.2.0",
            "_model_name": "LayoutModel",
            "_view_count": null,
            "_view_module": "@jupyter-widgets/base",
            "_view_module_version": "1.2.0",
            "_view_name": "LayoutView",
            "align_content": null,
            "align_items": null,
            "align_self": null,
            "border": null,
            "bottom": null,
            "display": null,
            "flex": null,
            "flex_flow": null,
            "grid_area": null,
            "grid_auto_columns": null,
            "grid_auto_flow": null,
            "grid_auto_rows": null,
            "grid_column": null,
            "grid_gap": null,
            "grid_row": null,
            "grid_template_areas": null,
            "grid_template_columns": null,
            "grid_template_rows": null,
            "height": null,
            "justify_content": null,
            "justify_items": null,
            "left": null,
            "margin": null,
            "max_height": null,
            "max_width": null,
            "min_height": null,
            "min_width": null,
            "object_fit": null,
            "object_position": null,
            "order": null,
            "overflow": null,
            "overflow_x": null,
            "overflow_y": null,
            "padding": null,
            "right": null,
            "top": null,
            "visibility": null,
            "width": null
          }
        },
        "db7543c7f68f4a9d973117127b7083a4": {
          "model_module": "@jupyter-widgets/controls",
          "model_name": "DescriptionStyleModel",
          "state": {
            "_model_module": "@jupyter-widgets/controls",
            "_model_module_version": "1.5.0",
            "_model_name": "DescriptionStyleModel",
            "_view_count": null,
            "_view_module": "@jupyter-widgets/base",
            "_view_module_version": "1.2.0",
            "_view_name": "StyleView",
            "description_width": ""
          }
        }
      }
    }
  },
  "cells": [
    {
      "cell_type": "markdown",
      "metadata": {
        "id": "view-in-github",
        "colab_type": "text"
      },
      "source": [
        "<a href=\"https://colab.research.google.com/github/jisoolee11/study/blob/main/Dacon/computer_vision(test3).ipynb\" target=\"_parent\"><img src=\"https://colab.research.google.com/assets/colab-badge.svg\" alt=\"Open In Colab\"/></a>"
      ]
    },
    {
      "cell_type": "markdown",
      "metadata": {
        "id": "tAY54iJiq_-B"
      },
      "source": [
        "<h1> DACON 제 2회 컴퓨터 비전 학습 경진대회"
      ]
    },
    {
      "cell_type": "code",
      "metadata": {
        "id": "GNvvmhU1aUzg"
      },
      "source": [
        "# from google.colab import drive\r\n",
        "\r\n",
        "# drive.mount('/content/gdrive')"
      ],
      "execution_count": null,
      "outputs": []
    },
    {
      "cell_type": "code",
      "metadata": {
        "id": "xGrTvrOTywGB"
      },
      "source": [
        "# !pip install torch-lr-finder"
      ],
      "execution_count": null,
      "outputs": []
    },
    {
      "cell_type": "code",
      "metadata": {
        "colab": {
          "base_uri": "https://localhost:8080/"
        },
        "id": "wMoNPWYfVvBc",
        "outputId": "d1a8061e-b53d-4c47-cf4f-b57777c5bf6a"
      },
      "source": [
        "cd /content/train"
      ],
      "execution_count": null,
      "outputs": [
        {
          "output_type": "stream",
          "text": [
            "/content/train\n"
          ],
          "name": "stdout"
        }
      ]
    },
    {
      "cell_type": "code",
      "metadata": {
        "id": "doUXpM7EVyJR"
      },
      "source": [
        "!unzip -qq /content/drive/MyDrive/Data/computer_vision2/dirty_mnist_2nd.zip"
      ],
      "execution_count": null,
      "outputs": []
    },
    {
      "cell_type": "code",
      "metadata": {
        "colab": {
          "base_uri": "https://localhost:8080/"
        },
        "id": "L9aTZA7cV0E2",
        "outputId": "5b9b97a6-a894-4b81-c48a-d2e31c81d70b"
      },
      "source": [
        "cd ../"
      ],
      "execution_count": null,
      "outputs": [
        {
          "output_type": "stream",
          "text": [
            "/content\n"
          ],
          "name": "stdout"
        }
      ]
    },
    {
      "cell_type": "code",
      "metadata": {
        "colab": {
          "base_uri": "https://localhost:8080/"
        },
        "id": "gZf24Ol5V1R9",
        "outputId": "7e11a9ac-4e74-4f9d-be5e-8df1801f7eb8"
      },
      "source": [
        "cd /content/test"
      ],
      "execution_count": null,
      "outputs": [
        {
          "output_type": "stream",
          "text": [
            "/content/test\n"
          ],
          "name": "stdout"
        }
      ]
    },
    {
      "cell_type": "code",
      "metadata": {
        "id": "FIJVdyuwV4Ox"
      },
      "source": [
        "!unzip -qq /content/drive/MyDrive/Data/computer_vision2/test_dirty_mnist_2nd.zip"
      ],
      "execution_count": null,
      "outputs": []
    },
    {
      "cell_type": "code",
      "metadata": {
        "colab": {
          "base_uri": "https://localhost:8080/"
        },
        "id": "-yqjXOWXWSUy",
        "outputId": "5db0e374-978f-4370-d32a-a27927830ed8"
      },
      "source": [
        "cd ../"
      ],
      "execution_count": null,
      "outputs": [
        {
          "output_type": "stream",
          "text": [
            "/content\n"
          ],
          "name": "stdout"
        }
      ]
    },
    {
      "cell_type": "code",
      "metadata": {
        "id": "CNdARf1Iclgc"
      },
      "source": [
        "import os\r\n",
        "from typing import Tuple, Sequence, Callable\r\n",
        "import csv\r\n",
        "import cv2\r\n",
        "import numpy as np\r\n",
        "import pandas as pd\r\n",
        "from PIL import Image\r\n",
        "import torch\r\n",
        "import torch.optim as optim\r\n",
        "from torch.optim import lr_scheduler\r\n",
        "from torch import nn, Tensor\r\n",
        "from torch.utils.data import Dataset, DataLoader\r\n",
        "from torch.cuda.amp import GradScaler\r\n",
        "from torchsummary import summary\r\n",
        "from torchvision import transforms\r\n",
        "from torchvision.models import resnet101, resnet50, resnet34\r\n",
        "# from torch_lr_finder import LRFinder"
      ],
      "execution_count": null,
      "outputs": []
    },
    {
      "cell_type": "code",
      "metadata": {
        "id": "Sp84hc0lcqr8"
      },
      "source": [
        "class MnistDataset(Dataset):\r\n",
        "    def __init__(\r\n",
        "        self,\r\n",
        "        dir: os.PathLike,\r\n",
        "        image_ids: os.PathLike,\r\n",
        "        transforms: Sequence[Callable]\r\n",
        "    ) -> None:\r\n",
        "        self.dir = dir\r\n",
        "        self.transforms = transforms\r\n",
        "\r\n",
        "        self.labels = {}\r\n",
        "        with open(image_ids, 'r') as f:\r\n",
        "            reader = csv.reader(f)\r\n",
        "            next(reader)\r\n",
        "            for row in reader:\r\n",
        "                self.labels[int(row[0])] = list(map(int, row[1:]))\r\n",
        "\r\n",
        "        self.image_ids = list(self.labels.keys())\r\n",
        "\r\n",
        "    def __len__(self) -> int:\r\n",
        "        return len(self.image_ids)\r\n",
        "\r\n",
        "    def __getitem__(self, index: int) -> Tuple[Tensor]:\r\n",
        "        image_id = self.image_ids[index]\r\n",
        "        image = Image.open(\r\n",
        "            os.path.join(\r\n",
        "                self.dir, f'{str(image_id).zfill(5)}.png')).convert('RGB')\r\n",
        "        target = np.array(self.labels.get(image_id)).astype(np.float32)\r\n",
        "\r\n",
        "        if self.transforms is not None:\r\n",
        "            image = self.transforms(image)\r\n",
        "\r\n",
        "        return image, target"
      ],
      "execution_count": null,
      "outputs": []
    },
    {
      "cell_type": "code",
      "metadata": {
        "id": "2TmU691FcuCn"
      },
      "source": [
        "transforms_train = transforms.Compose([\r\n",
        "    transforms.RandomHorizontalFlip(p=0.5),\r\n",
        "    transforms.RandomVerticalFlip(p=0.5),\r\n",
        "    # transforms.RandomRotation((30, 360)),\r\n",
        "    # transforms.RandomAffine((0, 360)),\r\n",
        "    # transforms.Resize((256, 256)),\r\n",
        "    transforms.ToTensor(),\r\n",
        "    transforms.Normalize(\r\n",
        "        [0.485, 0.456, 0.406],\r\n",
        "        [0.229, 0.224, 0.225]\r\n",
        "    )\r\n",
        "])\r\n",
        "\r\n",
        "transforms_test = transforms.Compose([\r\n",
        "    transforms.ToTensor(),\r\n",
        "    transforms.Normalize(\r\n",
        "        [0.485, 0.456, 0.406],\r\n",
        "        [0.229, 0.224, 0.225]\r\n",
        "    )\r\n",
        "])"
      ],
      "execution_count": null,
      "outputs": []
    },
    {
      "cell_type": "code",
      "metadata": {
        "id": "867XDQnYcxup"
      },
      "source": [
        "trainset = MnistDataset('/content/train', '/content/drive/MyDrive/Data/computer_vision2/dirty_mnist_2nd_answer.csv', transforms_train)\r\n",
        "testset = MnistDataset('/content/test', '/content/drive/MyDrive/Data/computer_vision2/sample_submission.csv', transforms_test)\r\n",
        "\r\n",
        "train_loader = DataLoader(trainset, batch_size=32, num_workers=0)\r\n",
        "test_loader = DataLoader(testset, batch_size=4, num_workers=0)"
      ],
      "execution_count": null,
      "outputs": []
    },
    {
      "cell_type": "code",
      "metadata": {
        "colab": {
          "base_uri": "https://localhost:8080/",
          "height": 102,
          "referenced_widgets": [
            "7962cbdeff1f43929c341a16be05b1fc",
            "a906c54da3fa4e9e80407d819ada2f9a",
            "31099e924d684803839fca72c2889e83",
            "b78fc1e9dc8747cab28752d6acf60f15",
            "9e56d44774704636b6ace01ccff735f3",
            "9bc844f93f9a446db818438420737217",
            "3c6c2e2b1c71492a8b5cf93038ed4a7d",
            "db7543c7f68f4a9d973117127b7083a4"
          ]
        },
        "id": "_GPLEvMEdHS6",
        "outputId": "c72dfb19-bca0-4b31-c803-b03917eeb1f0"
      },
      "source": [
        "class MnistModel(nn.Module):\r\n",
        "    def __init__(self) -> None:\r\n",
        "        super().__init__()\r\n",
        "        self.resnet = resnet101(pretrained=True)\r\n",
        "        self.classifier = nn.Linear(1000, 26)\r\n",
        "\r\n",
        "        nn.init.xavier_normal_(self.classifier.weight)\r\n",
        "\r\n",
        "    def forward(self, x):\r\n",
        "        x = self.resnet(x)\r\n",
        "        x = self.classifier(x)\r\n",
        "\r\n",
        "        return x\r\n",
        "\r\n",
        "device = torch.device('cuda' if torch.cuda.is_available() else 'cpu')\r\n",
        "print(device)\r\n",
        "model = MnistModel().to(device)\r\n",
        "# print(summary(model,(3, 256, 256)))"
      ],
      "execution_count": null,
      "outputs": [
        {
          "output_type": "stream",
          "text": [
            "cuda\n"
          ],
          "name": "stdout"
        },
        {
          "output_type": "stream",
          "text": [
            "Downloading: \"https://download.pytorch.org/models/resnet101-5d3b4d8f.pth\" to /root/.cache/torch/hub/checkpoints/resnet101-5d3b4d8f.pth\n"
          ],
          "name": "stderr"
        },
        {
          "output_type": "display_data",
          "data": {
            "application/vnd.jupyter.widget-view+json": {
              "model_id": "7962cbdeff1f43929c341a16be05b1fc",
              "version_major": 2,
              "version_minor": 0
            },
            "text/plain": [
              "HBox(children=(FloatProgress(value=0.0, max=178728960.0), HTML(value='')))"
            ]
          },
          "metadata": {
            "tags": []
          }
        },
        {
          "output_type": "stream",
          "text": [
            "\n"
          ],
          "name": "stdout"
        }
      ]
    },
    {
      "cell_type": "code",
      "metadata": {
        "id": "qvWdlZJdrpbg"
      },
      "source": [
        "# optimizer = optim.Adam(model.parameters(), lr=1e-4, weight_decay=1e-5)\r\n",
        "# criterion = nn.MultiLabelSoftMarginLoss()\r\n",
        "# scheduler = lr_scheduler.ReduceLROnPlateau(optimizer, factor=0.1, patience=2, mode='min')\r\n",
        "# lr_finder = LRFinder(model, optimizer, criterion, device='cuda')\r\n",
        "# lr_finder.range_test(train_loader, end_lr=10, num_iter=100)\r\n",
        "# lr_finder.plot()\r\n",
        "# lr_finder.reset()"
      ],
      "execution_count": null,
      "outputs": []
    },
    {
      "cell_type": "code",
      "metadata": {
        "colab": {
          "background_save": true,
          "base_uri": "https://localhost:8080/"
        },
        "id": "9by8o-KPdKbX",
        "outputId": "0e606306-2424-4259-b515-4deff108184b"
      },
      "source": [
        "# optimizer = optim.Adam(model.parameters(), lr=1e-4, weight_decay=1e-5)\r\n",
        "# criterion = nn.MultiLabelSoftMarginLoss()\r\n",
        "# scheduler = lr_scheduler.ReduceLROnPlateau(optimizer,threshold=1,patience=1,mode='min')\r\n",
        "optimizer = optim.Adam(model.parameters(), lr=1e-4, weight_decay=1e-5)\r\n",
        "criterion = nn.MultiLabelSoftMarginLoss()\r\n",
        "\r\n",
        "num_epochs = 20\r\n",
        "scaler = GradScaler()\r\n",
        "\r\n",
        "model.train()\r\n",
        "\r\n",
        "for epoch in range(num_epochs):\r\n",
        "    for i, (images, targets) in enumerate(train_loader):\r\n",
        "        optimizer.zero_grad()\r\n",
        "\r\n",
        "        images = images.to(device)\r\n",
        "        targets = targets.to(device)\r\n",
        "\r\n",
        "        outputs = model(images)\r\n",
        "        loss = criterion(outputs, targets)\r\n",
        "\r\n",
        "        scaler.scale(loss).backward()\r\n",
        "        scaler.step(optimizer)\r\n",
        "        scaler.update()\r\n",
        "\r\n",
        "        # loss.backward()\r\n",
        "        # optimizer.step()\r\n",
        "\r\n",
        "        # scheduler.step(loss)\r\n",
        "\r\n",
        "        if (i+1) % 500 == 0:\r\n",
        "            outputs = outputs > 0.0\r\n",
        "            acc = (outputs == targets).float().mean()\r\n",
        "            print(f'{epoch}: {loss.item():.5f}, {acc.item():.5f}')"
      ],
      "execution_count": null,
      "outputs": [
        {
          "output_type": "stream",
          "text": [
            "0: 0.69108, 0.54567\n",
            "0: 0.67868, 0.55889\n",
            "0: 0.64972, 0.61058\n",
            "1: 0.62954, 0.63341\n",
            "1: 0.58235, 0.68630\n",
            "1: 0.58739, 0.66827\n",
            "2: 0.54081, 0.73798\n",
            "2: 0.50891, 0.75120\n",
            "2: 0.52619, 0.72596\n",
            "3: 0.50885, 0.75000\n",
            "3: 0.45292, 0.78846\n",
            "3: 0.48521, 0.76322\n",
            "4: 0.44977, 0.80409\n",
            "4: 0.39530, 0.83173\n",
            "4: 0.43092, 0.79688\n",
            "5: 0.41141, 0.81370\n",
            "5: 0.35060, 0.85457\n",
            "5: 0.39952, 0.83293\n",
            "6: 0.39011, 0.82572\n",
            "6: 0.33258, 0.85337\n",
            "6: 0.38463, 0.82452\n",
            "7: 0.36137, 0.85096\n",
            "7: 0.30504, 0.87260\n",
            "7: 0.35217, 0.84375\n",
            "8: 0.32524, 0.86298\n",
            "8: 0.30435, 0.88462\n",
            "8: 0.33555, 0.85697\n",
            "9: 0.30115, 0.88101\n",
            "9: 0.26443, 0.88462\n",
            "9: 0.32792, 0.87500\n",
            "10: 0.26893, 0.89303\n",
            "10: 0.26768, 0.88582\n",
            "10: 0.25909, 0.89543\n",
            "11: 0.28876, 0.88341\n",
            "11: 0.25243, 0.89784\n",
            "11: 0.25593, 0.89303\n",
            "12: 0.24994, 0.90505\n",
            "12: 0.22444, 0.91346\n",
            "12: 0.23802, 0.90505\n",
            "13: 0.24531, 0.90625\n",
            "13: 0.21988, 0.91226\n",
            "13: 0.21927, 0.91466\n",
            "14: 0.25773, 0.89904\n",
            "14: 0.17442, 0.93750\n",
            "14: 0.23262, 0.90144\n",
            "15: 0.23302, 0.90505\n",
            "15: 0.19585, 0.91947\n",
            "15: 0.20840, 0.91707\n",
            "16: 0.21102, 0.90986\n",
            "16: 0.20022, 0.92428\n",
            "16: 0.17652, 0.93750\n",
            "17: 0.19633, 0.92308\n",
            "17: 0.18947, 0.92067\n",
            "17: 0.17285, 0.94471\n",
            "18: 0.19392, 0.93149\n",
            "18: 0.17277, 0.93389\n",
            "18: 0.17867, 0.93029\n",
            "19: 0.19758, 0.92067\n",
            "19: 0.17555, 0.93630\n",
            "19: 0.15606, 0.93990\n"
          ],
          "name": "stdout"
        }
      ]
    },
    {
      "cell_type": "code",
      "metadata": {
        "colab": {
          "background_save": true
        },
        "id": "30J5DnuJ3Gfc"
      },
      "source": [
        "# lr_finder = LRFinder(model, optimizer, criterion, device='cuda')\n",
        "# lr_finder.range_test(train_loader, end_lr=10, num_iter=100)\n",
        "# lr_finder.plot()\n",
        "# lr_finder.reset()"
      ],
      "execution_count": null,
      "outputs": []
    },
    {
      "cell_type": "code",
      "metadata": {
        "id": "PsS8EBHannW3"
      },
      "source": [
        "submit = pd.read_csv('/content/drive/MyDrive/Data/computer_vision2/sample_submission.csv')\r\n",
        "\r\n",
        "model.eval()\r\n",
        "batch_size = test_loader.batch_size\r\n",
        "batch_index = 0\r\n",
        "for i, (images, targets) in enumerate(test_loader):\r\n",
        "    images = images.to(device)\r\n",
        "    targets = targets.to(device)\r\n",
        "    outputs = model(images)\r\n",
        "    outputs = outputs > 0.0\r\n",
        "    batch_index = i * batch_size\r\n",
        "    submit.iloc[batch_index:batch_index+batch_size, 1:] = \\\r\n",
        "        outputs.long().squeeze(0).detach().cpu().numpy()\r\n",
        "\r\n",
        "submit.to_csv('/content/drive/MyDrive/Data/computer_vision2/submit38.csv', index=False)\r\n"
      ],
      "execution_count": null,
      "outputs": []
    }
  ]
}